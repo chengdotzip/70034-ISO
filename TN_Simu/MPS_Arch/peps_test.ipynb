{
 "cells": [
  {
   "cell_type": "code",
   "execution_count": 1,
   "metadata": {},
   "outputs": [],
   "source": [
    "from qh_circuit import *\n",
    "from qh_gates import *\n",
    "from tn_simu import TNArchitecture, TNSimulator, PEPSArchitecture\n",
    "import qiskit\n",
    "from qiskit import Aer\n",
    "\n",
    "import matplotlib.pyplot as plt"
   ]
  },
  {
   "cell_type": "code",
   "execution_count": 2,
   "metadata": {},
   "outputs": [],
   "source": [
    "def fidelity(sv1: np.ndarray, sv2: np.ndarray):\n",
    "    sv1_normed = sv1 / np.linalg.norm(sv1) ** 2\n",
    "    sv2_normed = sv2 / np.linalg.norm(sv2) ** 2\n",
    "    return np.abs(np.inner(sv1_normed, sv2_normed.conj())) ** 2"
   ]
  },
  {
   "cell_type": "code",
   "execution_count": 3,
   "metadata": {},
   "outputs": [
    {
     "name": "stdout",
     "output_type": "stream",
     "text": [
      "Supported gates: ['X', 'Y', 'Z', 'H', 'S', 'T', 'P', 'RX', 'RY', 'RZ', 'U', 'CX', 'CZ', 'RXX', 'RYY', 'RZZ']\n"
     ]
    }
   ],
   "source": [
    "supported_gates = list(gate_dict.keys())\n",
    "print(f\"Supported gates: {supported_gates}\")"
   ]
  },
  {
   "cell_type": "code",
   "execution_count": 4,
   "metadata": {},
   "outputs": [],
   "source": [
    "def get_random_connected_qubit(arch: TNArchitecture, qubit):\n",
    "    lst = np.array(arch.neighbours[qubit])\n",
    "    qubit2 = int(np.random.choice(lst, 1))\n",
    "    return qubit2"
   ]
  },
  {
   "cell_type": "code",
   "execution_count": 5,
   "metadata": {},
   "outputs": [],
   "source": [
    "qc = QHCircuit(10)\n",
    "for gate in supported_gates:\n",
    "    try:\n",
    "        dir(qc).index(gate.lower())\n",
    "    except:\n",
    "        print(f\"Warning: Method {gate} is not defined in QHCircuit\")"
   ]
  },
  {
   "cell_type": "code",
   "execution_count": 6,
   "metadata": {},
   "outputs": [],
   "source": [
    "def check_one_qubit_gates(length=4, width=3, ngates=3, round=10):\n",
    "    failed = []\n",
    "    nqubits = length * width\n",
    "    for _ in range(round):\n",
    "        qhqc = QHCircuit(nqubits)\n",
    "        qiskit_qc = qiskit.QuantumCircuit(nqubits)\n",
    "\n",
    "        for _ in range(ngates):\n",
    "            gate = np.random.randint(0, 10)\n",
    "            qubit = np.random.randint(0, nqubits)\n",
    "            if gate == 0: # x\n",
    "                qhqc.x(qubit)\n",
    "                qiskit_qc.x(qubit)\n",
    "            elif gate == 1: # y\n",
    "                qhqc.y(qubit)\n",
    "                qiskit_qc.y(qubit)\n",
    "            elif gate == 2: # z\n",
    "                qhqc.z(qubit)\n",
    "                qiskit_qc.z(qubit)\n",
    "            elif gate == 3: # h\n",
    "                qhqc.h(qubit)\n",
    "                qiskit_qc.h(qubit)\n",
    "            elif gate == 4: # s\n",
    "                qhqc.s(qubit)\n",
    "                qiskit_qc.s(qubit)\n",
    "            elif gate == 5: # t\n",
    "                qhqc.t(qubit)\n",
    "                qiskit_qc.t(qubit)\n",
    "            elif gate == 6: # p\n",
    "                para = np.random.rand()\n",
    "                qhqc.p(qubit, para)\n",
    "                qiskit_qc.p(para, qubit)\n",
    "            elif gate == 7: # rx\n",
    "                para = np.random.rand()\n",
    "                qhqc.rx(qubit, para)\n",
    "                qiskit_qc.rx(para, qubit)            \n",
    "            elif gate == 8: # ry\n",
    "                para = np.random.rand()\n",
    "                qhqc.ry(qubit, para)\n",
    "                qiskit_qc.ry(para, qubit)            \n",
    "            elif gate == 9: # rz\n",
    "                para = np.random.rand()\n",
    "                qhqc.rz(qubit, para)\n",
    "                qiskit_qc.rz(para, qubit)\n",
    "\n",
    "        peps_simulator = TNSimulator(PEPSArchitecture(length, width), qhqc, xi=1e-8, max_chi=2**ngates)\n",
    "        qiskit_simulator = Aer.get_backend('statevector_simulator')\n",
    "\n",
    "        peps_simulator.simulate()\n",
    "        peps_sv = peps_simulator.get_all_amplitudes()\n",
    "        qiskit_sv = qiskit_simulator.run(qiskit_qc).result().get_statevector().data\n",
    "\n",
    "        fid = fidelity(peps_sv, qiskit_sv)\n",
    "        if fid < 1 - 1e-3:\n",
    "            failed.append(qhqc)\n",
    "            print(f\"Failed! Fidelity = {fid}\")\n",
    "\n",
    "    if len(failed) == 0:\n",
    "        print(f\"All successful\")\n",
    "    else:\n",
    "        return failed \n"
   ]
  },
  {
   "cell_type": "code",
   "execution_count": 7,
   "metadata": {},
   "outputs": [
    {
     "name": "stdout",
     "output_type": "stream",
     "text": [
      "All successful\n"
     ]
    }
   ],
   "source": [
    "failed = check_one_qubit_gates(length=4, width=2, ngates=100, round=10)"
   ]
  },
  {
   "cell_type": "code",
   "execution_count": 8,
   "metadata": {},
   "outputs": [],
   "source": [
    "def check_cnot(length=4, width=3, ngates=3, round=10):\n",
    "    nqubits = length * width\n",
    "    failed = []\n",
    "    arch = PEPSArchitecture(length, width)\n",
    "\n",
    "    for _ in range(round):\n",
    "        qhqc = QHCircuit(nqubits)\n",
    "        qiskit_qc = qiskit.QuantumCircuit(nqubits)\n",
    "\n",
    "        for _ in range(ngates):\n",
    "            gate = np.random.randint(0, 6)\n",
    "            qubit = np.random.randint(0, nqubits)\n",
    "            if gate == 0: # h\n",
    "                qhqc.h(qubit)\n",
    "                qiskit_qc.h(qubit)\n",
    "            elif gate == 1: # p\n",
    "                para = np.random.rand()\n",
    "                qhqc.p(qubit, para)\n",
    "                qiskit_qc.p(para, qubit)\n",
    "            elif gate == 2: # rx\n",
    "                para = np.random.rand()\n",
    "                qhqc.rx(qubit, para)\n",
    "                qiskit_qc.rx(para, qubit)            \n",
    "            elif gate == 3: # ry\n",
    "                para = np.random.rand()\n",
    "                qhqc.ry(qubit, para)\n",
    "                qiskit_qc.ry(para, qubit)            \n",
    "            elif gate == 4: # rz\n",
    "                para = np.random.rand()\n",
    "                qhqc.rz(qubit, para)\n",
    "                qiskit_qc.rz(para, qubit)\n",
    "            elif gate == 5: # cnot\n",
    "                qubit2 = get_random_connected_qubit(arch, qubit)\n",
    "                qhqc.cnot(qubit, qubit2)\n",
    "                qiskit_qc.cnot(qubit, qubit2)\n",
    "\n",
    "        peps_simulator = TNSimulator(arch, qhqc, xi=1e-8, max_chi=2**ngates)\n",
    "        qiskit_simulator = Aer.get_backend('statevector_simulator')\n",
    "\n",
    "        try:\n",
    "            peps_simulator.simulate()\n",
    "            peps_sv = peps_simulator.get_all_amplitudes()\n",
    "            qiskit_sv = qiskit_simulator.run(qiskit_qc).result().get_statevector().data\n",
    "\n",
    "            assert fidelity(peps_sv, qiskit_sv) > 1 - 1e-3\n",
    "        except:\n",
    "            print(\"Failed!\")\n",
    "            failed.append(qhqc)\n",
    "\n",
    "    if len(failed) == 0:\n",
    "        print(f\"All successful\")\n",
    "    else:\n",
    "        return failed \n"
   ]
  },
  {
   "cell_type": "code",
   "execution_count": 9,
   "metadata": {},
   "outputs": [
    {
     "name": "stdout",
     "output_type": "stream",
     "text": [
      "All successful\n"
     ]
    }
   ],
   "source": [
    "failed = check_cnot(length=4, width=3, ngates=4, round=10)"
   ]
  },
  {
   "cell_type": "code",
   "execution_count": 10,
   "metadata": {},
   "outputs": [],
   "source": [
    "# print(failed[0])"
   ]
  },
  {
   "cell_type": "code",
   "execution_count": null,
   "metadata": {},
   "outputs": [],
   "source": []
  },
  {
   "cell_type": "code",
   "execution_count": 11,
   "metadata": {},
   "outputs": [],
   "source": [
    "def check_two_qubit_gates(length=4, width=3, ngates=3, round=10):\n",
    "    nqubits = length * width\n",
    "    failed = []\n",
    "    arch = PEPSArchitecture(length, width)\n",
    "    for _ in range(round):\n",
    "        qhqc = QHCircuit(nqubits)\n",
    "        qiskit_qc = qiskit.QuantumCircuit(nqubits)\n",
    "\n",
    "        for _ in range(ngates):\n",
    "            gate = np.random.randint(0, 9)\n",
    "            qubit = np.random.randint(0, nqubits)\n",
    "            qubit2 = get_random_connected_qubit(arch, qubit)\n",
    "\n",
    "            if gate == 0: # h\n",
    "                qhqc.h(qubit)\n",
    "                qiskit_qc.h(qubit)\n",
    "            elif gate == 1: # p\n",
    "                para = np.random.rand()\n",
    "                qhqc.p(qubit, para)\n",
    "                qiskit_qc.p(para, qubit)\n",
    "            elif gate == 2: # rx\n",
    "                para = np.random.rand()\n",
    "                qhqc.rx(qubit, para)\n",
    "                qiskit_qc.rx(para, qubit)            \n",
    "            elif gate == 3: # ry\n",
    "                para = np.random.rand()\n",
    "                qhqc.ry(qubit, para)\n",
    "                qiskit_qc.ry(para, qubit)            \n",
    "            elif gate == 4: # rz\n",
    "                para = np.random.rand()\n",
    "                qhqc.rz(qubit, para)\n",
    "                qiskit_qc.rz(para, qubit)\n",
    "            elif gate == 5: # cnot\n",
    "                qhqc.cnot(qubit, qubit2)\n",
    "                qiskit_qc.cnot(qubit, qubit2)\n",
    "            elif gate == 6: # rxx\n",
    "                para = np.random.rand()\n",
    "                qhqc.rxx(qubit, qubit2, para)\n",
    "                qiskit_qc.rxx(para, qubit, qubit2)\n",
    "            elif gate == 7: # ryy\n",
    "                para = np.random.rand()\n",
    "                qhqc.ryy(qubit, qubit2, para)\n",
    "                qiskit_qc.ryy(para, qubit, qubit2)\n",
    "            elif gate == 8: # rzz\n",
    "                para = np.random.rand()\n",
    "                qhqc.rzz(qubit, qubit2, para)\n",
    "                qiskit_qc.rzz(para, qubit, qubit2)\n",
    "\n",
    "        peps_simulator = TNSimulator(arch, qhqc, xi=1e-8, max_chi=2**ngates)\n",
    "        qiskit_simulator = Aer.get_backend('statevector_simulator')\n",
    "\n",
    "        peps_simulator.simulate()\n",
    "        peps_sv = peps_simulator.get_all_amplitudes()\n",
    "        qiskit_sv = qiskit_simulator.run(qiskit_qc).result().get_statevector().data\n",
    "\n",
    "        fid = fidelity(peps_sv, qiskit_sv)\n",
    "        if fid < 1 - 1e-3:\n",
    "            failed.append(qhqc)\n",
    "            print(f\"Failed! Fidelity = {fid}\")\n",
    "\n",
    "    if len(failed) == 0:\n",
    "        print(f\"All successful\")\n",
    "    else:\n",
    "        return failed \n"
   ]
  },
  {
   "cell_type": "code",
   "execution_count": 12,
   "metadata": {},
   "outputs": [
    {
     "name": "stdout",
     "output_type": "stream",
     "text": [
      "All successful\n"
     ]
    }
   ],
   "source": [
    "failed = check_two_qubit_gates(length=4, width=3, ngates=4, round=20)"
   ]
  },
  {
   "cell_type": "code",
   "execution_count": null,
   "metadata": {},
   "outputs": [],
   "source": []
  }
 ],
 "metadata": {
  "kernelspec": {
   "display_name": "Python 3",
   "language": "python",
   "name": "python3"
  },
  "language_info": {
   "codemirror_mode": {
    "name": "ipython",
    "version": 3
   },
   "file_extension": ".py",
   "mimetype": "text/x-python",
   "name": "python",
   "nbconvert_exporter": "python",
   "pygments_lexer": "ipython3",
   "version": "3.10.6"
  },
  "orig_nbformat": 4
 },
 "nbformat": 4,
 "nbformat_minor": 2
}
