{
 "cells": [
  {
   "cell_type": "code",
   "execution_count": 1,
   "metadata": {},
   "outputs": [],
   "source": [
    "from qh_circuit import *\n",
    "from qh_gates import *\n",
    "from mps_simu import MPS_Simulator\n",
    "import qiskit\n",
    "from qiskit import Aer\n",
    "\n",
    "import matplotlib.pyplot as plt"
   ]
  },
  {
   "cell_type": "code",
   "execution_count": 2,
   "metadata": {},
   "outputs": [],
   "source": [
    "def fidelity(sv1: np.ndarray, sv2: np.ndarray):\n",
    "    sv1_normed = sv1 / np.linalg.norm(sv1) ** 2\n",
    "    sv2_normed = sv2 / np.linalg.norm(sv2) ** 2\n",
    "    return np.abs(np.inner(sv1_normed, sv2_normed.conj())) ** 2"
   ]
  },
  {
   "cell_type": "code",
   "execution_count": 3,
   "metadata": {},
   "outputs": [],
   "source": [
    "def plot_state(amp):\n",
    "    plt.figure()\n",
    "    p = np.abs(amp) ** 2\n",
    "    n = int(np.log2(len(amp)))\n",
    "    label = [(r\"{:0\" + f\"{n}\" + r\"b}\").format(i) for i in range(len(amp))]\n",
    "    plt.bar(label, p)\n",
    "    plt.xticks(rotation=70)\n",
    "    plt.title(f\"{p.sum()}\")\n",
    "    plt.show()\n",
    "    plt.close()"
   ]
  },
  {
   "cell_type": "code",
   "execution_count": 4,
   "metadata": {},
   "outputs": [
    {
     "name": "stdout",
     "output_type": "stream",
     "text": [
      "Supported gates: ['X', 'Y', 'Z', 'H', 'S', 'T', 'P', 'RX', 'RY', 'RZ', 'CX', 'RXX', 'RYY', 'RZZ', 'MEASURE']\n"
     ]
    }
   ],
   "source": [
    "supported_gates = list(gate_dict.keys())\n",
    "print(f\"Supported gates: {supported_gates}\")"
   ]
  },
  {
   "cell_type": "code",
   "execution_count": 5,
   "metadata": {},
   "outputs": [],
   "source": [
    "qc = QHCircuit(10)\n",
    "for gate in supported_gates:\n",
    "    try:\n",
    "        dir(qc).index(gate.lower())\n",
    "    except:\n",
    "        print(f\"Warning: Method {gate} is not defined in QHCircuit\")"
   ]
  },
  {
   "cell_type": "code",
   "execution_count": 6,
   "metadata": {},
   "outputs": [],
   "source": [
    "def check_one_qubit_gates(nqubits=4, ngates=3, round=10):\n",
    "    failed = []\n",
    "    for _ in range(round):\n",
    "        mps_qc = QHCircuit(nqubits)\n",
    "        qiskit_qc = qiskit.QuantumCircuit(nqubits)\n",
    "\n",
    "        for _ in range(ngates):\n",
    "            gate = np.random.randint(0, 10)\n",
    "            qubit = np.random.randint(0, nqubits)\n",
    "            if gate == 0: # x\n",
    "                mps_qc.x(qubit)\n",
    "                qiskit_qc.x(qubit)\n",
    "            elif gate == 1: # y\n",
    "                mps_qc.y(qubit)\n",
    "                qiskit_qc.y(qubit)\n",
    "            elif gate == 2: # z\n",
    "                mps_qc.z(qubit)\n",
    "                qiskit_qc.z(qubit)\n",
    "            elif gate == 3: # h\n",
    "                mps_qc.h(qubit)\n",
    "                qiskit_qc.h(qubit)\n",
    "            elif gate == 4: # s\n",
    "                mps_qc.s(qubit)\n",
    "                qiskit_qc.s(qubit)\n",
    "            elif gate == 5: # t\n",
    "                mps_qc.t(qubit)\n",
    "                qiskit_qc.t(qubit)\n",
    "            elif gate == 6: # p\n",
    "                para = np.random.rand()\n",
    "                mps_qc.p(qubit, para)\n",
    "                qiskit_qc.p(para, qubit)\n",
    "            elif gate == 7: # rx\n",
    "                para = np.random.rand()\n",
    "                mps_qc.rx(qubit, para)\n",
    "                qiskit_qc.rx(para, qubit)            \n",
    "            elif gate == 8: # ry\n",
    "                para = np.random.rand()\n",
    "                mps_qc.ry(qubit, para)\n",
    "                qiskit_qc.ry(para, qubit)            \n",
    "            elif gate == 9: # rz\n",
    "                para = np.random.rand()\n",
    "                mps_qc.rz(qubit, para)\n",
    "                qiskit_qc.rz(para, qubit)\n",
    "\n",
    "        mps_simulator = MPS_Simulator(mps_qc, xi=1e-8, max_chi=2**ngates)\n",
    "        qiskit_simulator = Aer.get_backend('statevector_simulator')\n",
    "\n",
    "        mps_simulator.simulate()\n",
    "        mps_sv = mps_simulator.get_all_amplitudes()\n",
    "        qiskit_sv = qiskit_simulator.run(qiskit_qc).result().get_statevector().data\n",
    "\n",
    "        fid = fidelity(mps_sv, qiskit_sv)\n",
    "        if fid < 1 - 1e-3:\n",
    "            failed.append(mps_qc)\n",
    "            print(f\"Failed! Fidelity = {fid}\")\n",
    "\n",
    "    if len(failed) == 0:\n",
    "        print(f\"All successful\")\n",
    "    else:\n",
    "        return failed \n"
   ]
  },
  {
   "cell_type": "code",
   "execution_count": 7,
   "metadata": {},
   "outputs": [
    {
     "name": "stdout",
     "output_type": "stream",
     "text": [
      "All successful\n"
     ]
    }
   ],
   "source": [
    "check_one_qubit_gates(nqubits=4, ngates=100, round=10)"
   ]
  },
  {
   "cell_type": "code",
   "execution_count": 8,
   "metadata": {},
   "outputs": [],
   "source": [
    "def check_cnot(nqubits=4, ngates=3, round=10):\n",
    "    failed = []\n",
    "    for _ in range(round):\n",
    "        mps_qc = QHCircuit(nqubits)\n",
    "        qiskit_qc = qiskit.QuantumCircuit(nqubits)\n",
    "\n",
    "        for _ in range(ngates):\n",
    "            gate = np.random.randint(0, 6)\n",
    "            qubit = np.random.randint(0, nqubits-1)\n",
    "            qubit2 = qubit+1 \n",
    "            if np.random.rand() > 0.5:\n",
    "                qubit, qubit2 = qubit2, qubit\n",
    "            if gate == 0: # h\n",
    "                mps_qc.h(qubit)\n",
    "                qiskit_qc.h(qubit)\n",
    "            elif gate == 1: # p\n",
    "                para = np.random.rand()\n",
    "                mps_qc.p(qubit, para)\n",
    "                qiskit_qc.p(para, qubit)\n",
    "            elif gate == 2: # rx\n",
    "                para = np.random.rand()\n",
    "                mps_qc.rx(qubit, para)\n",
    "                qiskit_qc.rx(para, qubit)            \n",
    "            elif gate == 3: # ry\n",
    "                para = np.random.rand()\n",
    "                mps_qc.ry(qubit, para)\n",
    "                qiskit_qc.ry(para, qubit)            \n",
    "            elif gate == 4: # rz\n",
    "                para = np.random.rand()\n",
    "                mps_qc.rz(qubit, para)\n",
    "                qiskit_qc.rz(para, qubit)\n",
    "            elif gate == 5: # cnot\n",
    "                mps_qc.cnot(qubit, qubit2)\n",
    "                qiskit_qc.cnot(qubit, qubit2)\n",
    "\n",
    "\n",
    "        mps_simulator = MPS_Simulator(mps_qc, xi=1e-8, max_chi=2**ngates)\n",
    "        qiskit_simulator = Aer.get_backend('statevector_simulator')\n",
    "    \n",
    "        mps_simulator.simulate()\n",
    "        mps_sv = mps_simulator.get_all_amplitudes()\n",
    "        qiskit_sv = qiskit_simulator.run(qiskit_qc).result().get_statevector().data\n",
    "        \n",
    "        fid = fidelity(mps_sv, qiskit_sv)\n",
    "        if fid < 1 - 1e-3:\n",
    "            failed.append(mps_qc)\n",
    "            print(f\"Failed! Fidelity = {fid}\")\n",
    "\n",
    "    if len(failed) == 0:\n",
    "        print(f\"All successful\")\n",
    "    else:\n",
    "        return failed \n"
   ]
  },
  {
   "cell_type": "code",
   "execution_count": 9,
   "metadata": {},
   "outputs": [
    {
     "name": "stdout",
     "output_type": "stream",
     "text": [
      "All successful\n"
     ]
    }
   ],
   "source": [
    "failed = check_cnot(nqubits=4, ngates=10, round=10)"
   ]
  },
  {
   "cell_type": "code",
   "execution_count": null,
   "metadata": {},
   "outputs": [],
   "source": []
  },
  {
   "cell_type": "code",
   "execution_count": 10,
   "metadata": {},
   "outputs": [],
   "source": [
    "def check_two_qubit_gates(nqubits=4, ngates=3, round=10):\n",
    "    failed = []\n",
    "    for _ in range(round):\n",
    "        mps_qc = QHCircuit(nqubits)\n",
    "        qiskit_qc = qiskit.QuantumCircuit(nqubits)\n",
    "\n",
    "        for _ in range(ngates):\n",
    "            gate = np.random.randint(0, 9)\n",
    "            qubit = np.random.randint(0, nqubits-1)\n",
    "            qubit2 = qubit+1 \n",
    "            if np.random.rand() > 0.5:\n",
    "                qubit, qubit2 = qubit2, qubit         \n",
    "                   \n",
    "            if gate == 0: # h\n",
    "                mps_qc.h(qubit)\n",
    "                qiskit_qc.h(qubit)\n",
    "            elif gate == 1: # p\n",
    "                para = np.random.rand()\n",
    "                mps_qc.p(qubit, para)\n",
    "                qiskit_qc.p(para, qubit)\n",
    "            elif gate == 2: # rx\n",
    "                para = np.random.rand()\n",
    "                mps_qc.rx(qubit, para)\n",
    "                qiskit_qc.rx(para, qubit)            \n",
    "            elif gate == 3: # ry\n",
    "                para = np.random.rand()\n",
    "                mps_qc.ry(qubit, para)\n",
    "                qiskit_qc.ry(para, qubit)            \n",
    "            elif gate == 4: # rz\n",
    "                para = np.random.rand()\n",
    "                mps_qc.rz(qubit, para)\n",
    "                qiskit_qc.rz(para, qubit)\n",
    "            elif gate == 5: # cnot\n",
    "                mps_qc.cnot(qubit, qubit2)\n",
    "                qiskit_qc.cnot(qubit, qubit2)\n",
    "            elif gate == 6: # rxx\n",
    "                para = np.random.rand()\n",
    "                mps_qc.rxx(qubit, qubit2, para)\n",
    "                qiskit_qc.rxx(para, qubit, qubit2)\n",
    "            elif gate == 7: # ryy\n",
    "                para = np.random.rand()\n",
    "                mps_qc.ryy(qubit, qubit2, para)\n",
    "                qiskit_qc.ryy(para, qubit, qubit2)\n",
    "            elif gate == 8: # rzz\n",
    "                para = np.random.rand()\n",
    "                mps_qc.rzz(qubit, qubit2, para)\n",
    "                qiskit_qc.rzz(para, qubit, qubit2)\n",
    "\n",
    "        mps_simulator = MPS_Simulator(mps_qc, xi=1e-8, max_chi=2**ngates)\n",
    "        \n",
    "        qiskit_simulator = Aer.get_backend('statevector_simulator')\n",
    "    \n",
    "        mps_simulator.simulate()\n",
    "        mps_sv = mps_simulator.get_all_amplitudes()\n",
    "        qiskit_sv = qiskit_simulator.run(qiskit_qc).result().get_statevector().data\n",
    "        \n",
    "        fid = fidelity(mps_sv, qiskit_sv)\n",
    "        if fid < 1 - 1e-3:\n",
    "            failed.append(mps_qc)\n",
    "            print(f\"Failed! Fidelity = {fid}\")\n",
    "\n",
    "    if len(failed) == 0:\n",
    "        print(f\"All successful\")\n",
    "    else:\n",
    "        return failed \n"
   ]
  },
  {
   "cell_type": "code",
   "execution_count": 11,
   "metadata": {},
   "outputs": [
    {
     "name": "stdout",
     "output_type": "stream",
     "text": [
      "All successful\n"
     ]
    }
   ],
   "source": [
    "failed = check_two_qubit_gates(nqubits=7, ngates=30, round=10)"
   ]
  },
  {
   "cell_type": "code",
   "execution_count": 12,
   "metadata": {},
   "outputs": [],
   "source": [
    "def check_measurement(nqubits=4, ngates=3, round=10):\n",
    "    failed = []\n",
    "    for _ in range(round):\n",
    "        mps_qc = QHCircuit(nqubits)\n",
    "        qiskit_qc = qiskit.QuantumCircuit(nqubits)\n",
    "\n",
    "        for _ in range(ngates):\n",
    "            gate = np.random.randint(0, 10)\n",
    "            qubit = np.random.randint(0, nqubits-1)\n",
    "            qubit2 = qubit+1 \n",
    "            if np.random.rand() > 0.5:\n",
    "                qubit, qubit2 = qubit2, qubit         \n",
    "                   \n",
    "            if gate == 0: # h\n",
    "                mps_qc.h(qubit)\n",
    "                qiskit_qc.h(qubit)\n",
    "            elif gate == 1: # p\n",
    "                para = np.random.rand()\n",
    "                mps_qc.p(qubit, para)\n",
    "                qiskit_qc.p(para, qubit)\n",
    "            elif gate == 2: # rx\n",
    "                para = np.random.rand()\n",
    "                mps_qc.rx(qubit, para)\n",
    "                qiskit_qc.rx(para, qubit)            \n",
    "            elif gate == 3: # ry\n",
    "                para = np.random.rand()\n",
    "                mps_qc.ry(qubit, para)\n",
    "                qiskit_qc.ry(para, qubit)            \n",
    "            elif gate == 4: # rz\n",
    "                para = np.random.rand()\n",
    "                mps_qc.rz(qubit, para)\n",
    "                qiskit_qc.rz(para, qubit)\n",
    "            elif gate == 5: # cnot\n",
    "                mps_qc.cnot(qubit, qubit2)\n",
    "                qiskit_qc.cnot(qubit, qubit2)\n",
    "            elif gate == 6: # rxx\n",
    "                para = np.random.rand()\n",
    "                mps_qc.rxx(qubit, qubit2, para)\n",
    "                qiskit_qc.rxx(para, qubit, qubit2)\n",
    "            elif gate == 7: # ryy\n",
    "                para = np.random.rand()\n",
    "                mps_qc.ryy(qubit, qubit2, para)\n",
    "                qiskit_qc.ryy(para, qubit, qubit2)\n",
    "            elif gate == 8: # rzz\n",
    "                para = np.random.rand()\n",
    "                mps_qc.rzz(qubit, qubit2, para)\n",
    "                qiskit_qc.rzz(para, qubit, qubit2)\n",
    "            elif gate == 9: # measure\n",
    "                if np.random.rand() < 0.5:\n",
    "                    mps_qc.collapse(qubit, 0)\n",
    "                    qiskit_qc.reset(qubit)\n",
    "                else:\n",
    "                    mps_qc.collapse(qubit, 1)\n",
    "                    qiskit_qc.reset(qubit)\n",
    "                    qiskit_qc.x(qubit)\n",
    "\n",
    "        # print(mps_qc)\n",
    "        mps_simulator = MPS_Simulator(mps_qc, xi=1e-8, max_chi=2**ngates)\n",
    "        \n",
    "        qiskit_simulator = Aer.get_backend('statevector_simulator')\n",
    "\n",
    "        mps_simulator.initialize()\n",
    "        mps_simulator.simulate()\n",
    "        mps_sv = mps_simulator.get_all_amplitudes()\n",
    "        qiskit_qc = qiskit.transpile(qiskit_qc, qiskit_simulator)\n",
    "        qiskit_sv = qiskit_simulator.run(qiskit_qc).result().get_statevector().data\n",
    "        \n",
    "        fid = fidelity(mps_sv, qiskit_sv)\n",
    "        if fid < 1 - 1e-3:\n",
    "            failed.append(mps_qc)\n",
    "            print(f\"Failed! Fidelity = {fid}\")\n",
    "            print(mps_sv)\n",
    "            print(qiskit_sv)\n",
    "\n",
    "    if len(failed) == 0:\n",
    "        print(f\"All successful\")\n",
    "    else:\n",
    "        return failed \n"
   ]
  },
  {
   "cell_type": "code",
   "execution_count": 15,
   "metadata": {},
   "outputs": [
    {
     "name": "stdout",
     "output_type": "stream",
     "text": [
      "Failed! Fidelity = 0.0\n",
      "[0.+0.j 1.+0.j 0.+0.j 0.+0.j]\n",
      "[0.+0.j 0.+0.j 0.+0.j 0.-1.j]\n",
      "Failed! Fidelity = 0.0\n",
      "[0.+0.j 0.+0.j 1.+0.j 0.+0.j]\n",
      "[0.+0.j 0.+0.j 0.+0.j 0.+1.j]\n"
     ]
    }
   ],
   "source": [
    "failed = check_measurement(nqubits=2, ngates=2, round=1000)"
   ]
  },
  {
   "cell_type": "code",
   "execution_count": 16,
   "metadata": {},
   "outputs": [
    {
     "name": "stdout",
     "output_type": "stream",
     "text": [
      "RXX(0.439) on [1, 0]\n",
      "COLLAPSE(1.000) on [0]\n"
     ]
    }
   ],
   "source": [
    "print(failed[0])"
   ]
  },
  {
   "cell_type": "code",
   "execution_count": null,
   "metadata": {},
   "outputs": [],
   "source": []
  }
 ],
 "metadata": {
  "kernelspec": {
   "display_name": "Python 3",
   "language": "python",
   "name": "python3"
  },
  "language_info": {
   "codemirror_mode": {
    "name": "ipython",
    "version": 3
   },
   "file_extension": ".py",
   "mimetype": "text/x-python",
   "name": "python",
   "nbconvert_exporter": "python",
   "pygments_lexer": "ipython3",
   "version": "3.10.6"
  },
  "orig_nbformat": 4
 },
 "nbformat": 4,
 "nbformat_minor": 2
}
