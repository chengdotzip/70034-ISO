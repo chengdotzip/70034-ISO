{
 "cells": [
  {
   "cell_type": "code",
   "execution_count": 28,
   "metadata": {},
   "outputs": [],
   "source": [
    "import numpy as np\n",
    "import torch"
   ]
  },
  {
   "cell_type": "code",
   "execution_count": 22,
   "metadata": {},
   "outputs": [],
   "source": [
    "# EXP1 = False"
   ]
  },
  {
   "attachments": {},
   "cell_type": "markdown",
   "metadata": {},
   "source": [
    "### Experiment 1: Vectorized addition"
   ]
  },
  {
   "cell_type": "code",
   "execution_count": 26,
   "metadata": {},
   "outputs": [
    {
     "name": "stdout",
     "output_type": "stream",
     "text": [
      "skipping\n"
     ]
    }
   ],
   "source": [
    "%%script echo skipping\n",
    "# numpy\n",
    "for i in range(20, 25):\n",
    "    n = 1 << i # 2 ** i\n",
    "    arr1 = np.random.rand(n)\n",
    "    arr1.dtype = np.float64\n",
    "    arr2 = np.random.rand(n)\n",
    "    arr2.dtype = np.float64\n",
    "\n",
    "    rst = np.zeros_like(arr1)\n",
    "\n",
    "    r = %timeit -o -q rst = arr1 + arr2\n",
    "    print(f\"i = {i}: {r.best*1e6:.4f} microseconds\")"
   ]
  },
  {
   "cell_type": "code",
   "execution_count": 14,
   "metadata": {},
   "outputs": [
    {
     "name": "stdout",
     "output_type": "stream",
     "text": [
      "i = 20: 664.5676 microseconds\n",
      "i = 21: 1754.9985 microseconds\n",
      "i = 22: 3376.3163 microseconds\n",
      "i = 23: 6724.0524 microseconds\n",
      "i = 24: 13149.9485 microseconds\n"
     ]
    }
   ],
   "source": [
    "# pytorch\n",
    "for i in range(20, 25):\n",
    "    n = 1 << i # 2 ** i\n",
    "    arr1 = torch.rand(n, dtype=torch.float64)\n",
    "    arr2 = torch.rand(n, dtype=torch.float64)\n",
    "\n",
    "    rst = torch.zeros_like(arr1)\n",
    "\n",
    "    r = %timeit -o -q rst = arr1 + arr2\n",
    "    print(f\"i = {i}: {r.best*1e6:.4f} microseconds\")"
   ]
  },
  {
   "cell_type": "code",
   "execution_count": 29,
   "metadata": {},
   "outputs": [
    {
     "name": "stdout",
     "output_type": "stream",
     "text": [
      "i = 10: 3.0637 microseconds\n",
      "i = 11: 3.0443 microseconds\n",
      "i = 12: 3.0858 microseconds\n",
      "i = 13: 3.0910 microseconds\n",
      "i = 14: 3.0749 microseconds\n",
      "i = 15: 3.0897 microseconds\n",
      "i = 16: 3.0931 microseconds\n",
      "i = 17: 3.3060 microseconds\n",
      "i = 18: 9.0838 microseconds\n",
      "i = 19: 19.3232 microseconds\n",
      "i = 20: 36.6762 microseconds\n",
      "i = 21: 72.9253 microseconds\n",
      "i = 22: 144.7579 microseconds\n",
      "i = 23: 287.9498 microseconds\n",
      "i = 24: 560.7064 microseconds\n"
     ]
    }
   ],
   "source": [
    "# pytorch GPU\n",
    "if torch.cuda.is_available():\n",
    "    device = torch.device(\"cuda:0\")\n",
    "for i in range(10, 25):\n",
    "    n = 1 << i # 2 ** i\n",
    "    arr1 = torch.rand(n, dtype=torch.float64).to(device)\n",
    "    arr2 = torch.rand(n, dtype=torch.float64).to(device)\n",
    "\n",
    "    rst = torch.zeros_like(arr1).to(device)\n",
    "\n",
    "    r = %timeit -o -q rst = arr1 + arr2\n",
    "    print(f\"i = {i}: {r.best*1e6:.4f} microseconds\")"
   ]
  },
  {
   "cell_type": "code",
   "execution_count": 16,
   "metadata": {},
   "outputs": [
    {
     "name": "stdout",
     "output_type": "stream",
     "text": [
      "i = 10: 63.8757 microseconds\n",
      "i = 11: 131.3121 microseconds\n",
      "i = 12: 270.1560 microseconds\n",
      "i = 13: 544.4148 microseconds\n",
      "i = 14: 1095.9334 microseconds\n",
      "i = 15: 2194.6460 microseconds\n",
      "i = 16: 4289.2378 microseconds\n",
      "i = 17: 8405.1955 microseconds\n",
      "i = 18: 16768.5315 microseconds\n",
      "i = 19: 33536.8847 microseconds\n",
      "i = 20: 66786.2534 microseconds\n",
      "i = 21: 135129.1589 microseconds\n",
      "i = 22: 264746.4610 microseconds\n",
      "i = 23: 538577.7570 microseconds\n",
      "i = 24: 1066299.5050 microseconds\n"
     ]
    }
   ],
   "source": [
    "# direct loop\n",
    "for i in range(10, 25):\n",
    "    n = 1 << i # 2 ** i\n",
    "    arr1 = np.random.rand(n)\n",
    "    arr2 = np.random.rand(n)\n",
    "    rst = np.zeros_like(arr1)\n",
    "\n",
    "    arr1 = list(arr1)\n",
    "    arr2 = list(arr2)\n",
    "    rst = list(rst)\n",
    "\n",
    "    r = %timeit -o -q for i in range(n): rst[i] = arr1[i] + arr2[i]\n",
    "    print(f\"i = {i}: {r.best*1e6:.4f} microseconds\")"
   ]
  }
 ],
 "metadata": {
  "kernelspec": {
   "display_name": "Python 3",
   "language": "python",
   "name": "python3"
  },
  "language_info": {
   "codemirror_mode": {
    "name": "ipython",
    "version": 3
   },
   "file_extension": ".py",
   "mimetype": "text/x-python",
   "name": "python",
   "nbconvert_exporter": "python",
   "pygments_lexer": "ipython3",
   "version": "3.10.6"
  },
  "orig_nbformat": 4
 },
 "nbformat": 4,
 "nbformat_minor": 2
}
